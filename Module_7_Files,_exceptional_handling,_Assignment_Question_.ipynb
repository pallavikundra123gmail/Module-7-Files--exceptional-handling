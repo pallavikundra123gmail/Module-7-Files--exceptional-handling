{
  "nbformat": 4,
  "nbformat_minor": 0,
  "metadata": {
    "colab": {
      "provenance": []
    },
    "kernelspec": {
      "name": "python3",
      "display_name": "Python 3"
    },
    "language_info": {
      "name": "python"
    }
  },
  "cells": [
    {
      "cell_type": "markdown",
      "source": [
        "Theory Questions:-"
      ],
      "metadata": {
        "id": "qspudc6qFouL"
      }
    },
    {
      "cell_type": "code",
      "execution_count": null,
      "metadata": {
        "id": "-G_7oK_-p190"
      },
      "outputs": [],
      "source": [
        "#1.  What is the difference between interpreted and compiled languages?\n",
        "\n",
        "#Ans:- Compiled language is the language which translated into machine language before code executed(like.. c++)\n",
        "#      this slow in process\n",
        "\n",
        "#      Interpreted language is the language in which code executed line-by-line by interpreter(like python)\n",
        "#      this is very fast in process."
      ]
    },
    {
      "cell_type": "code",
      "source": [
        "#2. What is Exception Handling in Python?\n",
        "\n",
        "#Ans:- Exception handling is the way how we handle the suspicious code ,so rest of the code executed without any problem\n",
        "#      for handling the exception/suspicious code we use try catch block."
      ],
      "metadata": {
        "id": "S6hqWlBV_DVO"
      },
      "execution_count": null,
      "outputs": []
    },
    {
      "cell_type": "code",
      "source": [
        "#3.What is the purpose of the finally block in exception handling?\n",
        "\n",
        "#Ans:-Finally block is the block in which code always executed whether there is exception in code or not."
      ],
      "metadata": {
        "id": "VvfZSGvv_J57"
      },
      "execution_count": null,
      "outputs": []
    },
    {
      "cell_type": "code",
      "source": [
        "#4. What is Logging in Python?\n",
        "\n",
        "#Ans:-Logging is a way to track events and errors in your application without printing everything to the console,\n",
        "#     It's helpful for debugging and monitoring."
      ],
      "metadata": {
        "id": "LBaSWcNQ_OMb"
      },
      "execution_count": null,
      "outputs": []
    },
    {
      "cell_type": "code",
      "source": [
        "#5.What is the significance of the __del__ method in Python?\n",
        "\n",
        "#Ans:- It is a method, which is used to delete the object."
      ],
      "metadata": {
        "id": "JRvZqdhW_TBh"
      },
      "execution_count": null,
      "outputs": []
    },
    {
      "cell_type": "code",
      "source": [
        "#6.What is the difference between import and from ... import in Python?\n",
        "\n",
        "#Ans:- Import means import whole module.\n",
        "#      From means import something from such module ,not whole module."
      ],
      "metadata": {
        "id": "SHYL5opQ_XK5"
      },
      "execution_count": null,
      "outputs": []
    },
    {
      "cell_type": "code",
      "source": [
        "#7.How can you handle multiple exceptions in Python?\n",
        "\n",
        "#Ans:- We can handle multiple exception in python by using except blocks."
      ],
      "metadata": {
        "id": "SWAcNb47_bqq"
      },
      "execution_count": null,
      "outputs": []
    },
    {
      "cell_type": "code",
      "source": [
        "#8.What is the purpose of the with statement when handling files in Python?\n",
        "\n",
        "#Ans:-By using with statement we can read and write without using open(),close(). it automatically handle opening and closing of file"
      ],
      "metadata": {
        "id": "CrVJAi9k_gNI"
      },
      "execution_count": null,
      "outputs": []
    },
    {
      "cell_type": "code",
      "source": [
        "#9.What is the difference between multithreading and multiprocessing?\n",
        "\n",
        "#Ans:- Multithreading run multiple thread/task in same process , it may take more time than multiprocessor.\n",
        "#      Multiprocessing run task in multiple proceesor , it may take less time than multithreading."
      ],
      "metadata": {
        "id": "r3o3XTuD_m4f"
      },
      "execution_count": null,
      "outputs": []
    },
    {
      "cell_type": "code",
      "source": [
        "#10.What are the advantages of using logging in a program?\n",
        "\n",
        "#Ans:-Advantages of Using Logging :-\n",
        "#    1.Keeps track of program flow and errors.\n",
        "#    2.Can be written to files for later analysis.\n",
        "#    3.Helps debug issues without using print().\n",
        "#    4.Supports different levels like DEBUG, INFO, WARNING, ERROR, CRITICAL."
      ],
      "metadata": {
        "id": "hcLYvJU4_szU"
      },
      "execution_count": null,
      "outputs": []
    },
    {
      "cell_type": "code",
      "source": [
        "#11.What is memory management in Python?\n",
        "\n",
        "#Ans:- Memory management is the process in which how memory alloction and releasing memory during code execution:-\n",
        "#      1. automatic garbage collection\n",
        "#      2. counting\n",
        "#      3.private space"
      ],
      "metadata": {
        "id": "XIZBeaj-_zxe"
      },
      "execution_count": null,
      "outputs": []
    },
    {
      "cell_type": "code",
      "source": [
        "#12.What are the basic steps involved in exception handling in Python?\n",
        "\n",
        "#Ans:- Below are the steps involve in exception handling in python:-\n",
        "#     1.try block : in this block ,the code in which error may be occur.\n",
        "#     2.except block: in this block , if in try block error occurred except block should be execute\n",
        "#     3.else block : in this block , this block only executed when error occurred in try block\n",
        "#     4.finally block : in this block , this block always execute whether error occur or not in try block"
      ],
      "metadata": {
        "id": "l0kBw3Po_72h"
      },
      "execution_count": null,
      "outputs": []
    },
    {
      "cell_type": "code",
      "source": [
        "#13.Why is memory management important in Python ?\n",
        "\n",
        "#Ans:- importance of memory management in Python:-\n",
        "#      1.it prevent memory leaks\n",
        "#      2. for efficient programming\n",
        "#      3. memory doesn't use unused space unnecessarily"
      ],
      "metadata": {
        "id": "eVb534UkAL5s"
      },
      "execution_count": null,
      "outputs": []
    },
    {
      "cell_type": "code",
      "source": [
        "#14.What is the role of try and except in exception handling ?\n",
        "\n",
        "#Ans:-try: it is used when code may be occur error\n",
        "#     except : it is executed when error occur in try block\n",
        "#     both of the block together , executed rest of the code without failing"
      ],
      "metadata": {
        "id": "eR3DX4MGAbIB"
      },
      "execution_count": null,
      "outputs": []
    },
    {
      "cell_type": "code",
      "source": [
        "#15.How does Python's garbage collection system work ?\n",
        "\n",
        "#Ans:-it uses the reference counting , when any object has no reference point it will be deleted\n",
        "#     Garbage collector handles cyclic references (like two objects referencing each other)"
      ],
      "metadata": {
        "id": "t0DaUgHiBFCS"
      },
      "execution_count": null,
      "outputs": []
    },
    {
      "cell_type": "code",
      "source": [
        "#16.What is the purpose of the else block in exception handling ?\n",
        "\n",
        "#Ans:-The purpose of the else block in exception henadling:-\n",
        "#      1. it is execute only when there is error occur in try block,and it should be run when everything goes well\n"
      ],
      "metadata": {
        "id": "WPckPlZUBMI0"
      },
      "execution_count": null,
      "outputs": []
    },
    {
      "cell_type": "code",
      "source": [
        "#17.What are the common logging levels in Python?\n",
        "\n",
        "#Ans:- there are 5 common level of logging which is used in indusrty:-\n",
        "#      1.DEBUG : it gives a detailed info of any variable , message\n",
        "#      2.INFO : this is used to convey that the code is working as expected\n",
        "#      3.WARNING : used to indicate that something unexpected happend, or potential issue in the code\n",
        "#      4.ERROR : it is use to indicate , there is some serious problem with some function\n",
        "#      5.CRITICAL : there is some serious error, and programe will not continue further"
      ],
      "metadata": {
        "id": "IEn4rt7CBRqq"
      },
      "execution_count": null,
      "outputs": []
    },
    {
      "cell_type": "code",
      "source": [
        "#18.What is the difference between os.fork() and multiprocessing in Python ?\n",
        "\n",
        "#Ans:- these are the difference between os.fork() and multiprocessing :-\n",
        "#      1.os.fork() (Unix only): Duplicates the current process. Lower-level, less portable.(not teach yet )\n",
        "#      2.multiprocesssing : this is high level module to create process , scope of work is also broader"
      ],
      "metadata": {
        "id": "fLROBJDrBXaT"
      },
      "execution_count": null,
      "outputs": []
    },
    {
      "cell_type": "code",
      "source": [
        "#19.What is the importance of closing a file in Python ?\n",
        "\n",
        "#Ans:- importance of closing file in python :-\n",
        "#      1.it is sign to comlete file\n",
        "#      2.free up system resource\n",
        "#      3.prevent file from corruption"
      ],
      "metadata": {
        "id": "FLdCFWRLBehj"
      },
      "execution_count": null,
      "outputs": []
    },
    {
      "cell_type": "code",
      "source": [
        "#20.What is the difference between file.read() and file.readline() in Python ?\n",
        "\n",
        "#Ans:- 1. file.read means read whole file as a string in one go.\n",
        "#      2. file.readline means read only one of file in one go."
      ],
      "metadata": {
        "id": "70kXGPDsBkdu"
      },
      "execution_count": null,
      "outputs": []
    },
    {
      "cell_type": "code",
      "source": [
        "#21.What is the logging module in Python used for ?\n",
        "\n",
        "#Ans:- 1. it record's the state and flow of your program/code/software\n",
        "#      2. it is useful tonunderstanding,monitoring and debugging of your code\n",
        "#      3. it shows how program behaves over time\n"
      ],
      "metadata": {
        "id": "tpzmQs7mB0fk"
      },
      "execution_count": null,
      "outputs": []
    },
    {
      "cell_type": "code",
      "source": [
        "#22.What is the os module in Python used for in file handling ?\n",
        "\n",
        "#Ans:- os module helps in interacting with operating system, with the help of this we can :-\n",
        "#      1. create/delete files/folders\n",
        "#      2. we can check path of file folder\n",
        "#      3. we can know about the size of files/folder\n",
        "#      4. we can remove and check existens of file and folder"
      ],
      "metadata": {
        "id": "XLK6DvNYB7ce"
      },
      "execution_count": null,
      "outputs": []
    },
    {
      "cell_type": "code",
      "source": [
        "#23.What are the challenges associated with memory management in Python ?\n",
        "\n",
        "#Ans:- Challenges in Memory Management in Python :-\n",
        "#       1. give circular refernce to the two objects reffering each other\n",
        "#       2.Memory leaks ,Due to lingering references\n",
        "#       3.Large data structures Can consume lots of RAM if not handled carefully."
      ],
      "metadata": {
        "id": "IgZNd7dzCFF7"
      },
      "execution_count": null,
      "outputs": []
    },
    {
      "cell_type": "code",
      "source": [
        "#24.How do you raise an exception manually in Python ?\n",
        "\n",
        "#Ans:- we can raise exception manually in python by using \"raise\" function :-\n",
        "#      raise ValueError(\"Invalid input!\""
      ],
      "metadata": {
        "id": "-wBWCij2CMUn"
      },
      "execution_count": null,
      "outputs": []
    },
    {
      "cell_type": "code",
      "source": [
        "#25.Why is it important to use multithreading in certain applications?\n",
        "\n",
        "#Ans:- Multithreading is useful when your program :-\n",
        "#      1. when we want to need to do multiple things at once"
      ],
      "metadata": {
        "id": "nGZJmtjOCSNq"
      },
      "execution_count": null,
      "outputs": []
    },
    {
      "cell_type": "markdown",
      "source": [
        "Pratical Questions"
      ],
      "metadata": {
        "id": "dSTaG95TCgN0"
      }
    },
    {
      "cell_type": "code",
      "source": [
        "#1.How can you open a file for writing in Python and write a string to it ?\n",
        "\n",
        "with open(\"assignment5.txt\", \"w\") as file:\n",
        "    file.write(\"Hello, this is assigment5 of python\")"
      ],
      "metadata": {
        "id": "E78yV15sCifK"
      },
      "execution_count": null,
      "outputs": []
    },
    {
      "cell_type": "code",
      "source": [
        "#2.Write a Python program to read the contents of a file and print each line ?\n",
        "\n",
        "with open(\"assignment5.txt\",\"r\") as file:\n",
        "    read_line = file.read()\n",
        "print(read_line)"
      ],
      "metadata": {
        "colab": {
          "base_uri": "https://localhost:8080/"
        },
        "id": "Zl4mftduFHKI",
        "outputId": "3dc21475-5bef-4ee4-ea13-0dedbf73ac06"
      },
      "execution_count": null,
      "outputs": [
        {
          "output_type": "stream",
          "name": "stdout",
          "text": [
            "Hello, this is assigment5 of python\n"
          ]
        }
      ]
    },
    {
      "cell_type": "code",
      "source": [
        "#3.How would you handle a case where the file doesn't exist while trying to open it for reading ?\n",
        "\n",
        "try:\n",
        "    with open(\"file_not_exist.txt\", \"r\") as file:\n",
        "        print(file.read())\n",
        "except Exception as e:\n",
        "    print(\"This file does not exist as of now.\",e)"
      ],
      "metadata": {
        "colab": {
          "base_uri": "https://localhost:8080/"
        },
        "id": "ibz8CNT_CZB9",
        "outputId": "94a075c7-b590-4fcd-a9da-d9f244917a65"
      },
      "execution_count": null,
      "outputs": [
        {
          "output_type": "stream",
          "name": "stdout",
          "text": [
            "This file does not exist as of now. [Errno 2] No such file or directory: 'file_not_exist.txt'\n"
          ]
        }
      ]
    },
    {
      "cell_type": "code",
      "source": [
        "#4.Write a Python script that reads from one file and writes its content to another file ?\n",
        "\n",
        "with open(\"readfile.txt\", \"w\") as read_file:\n",
        "    read_file.write(\"this message read from read_file and written in write_file\")\n",
        "\n",
        "with open(\"readfile.txt\", \"r\") as read_file:\n",
        "    message = read_file.read()\n",
        "\n",
        "with open(\"writefile.txt\", \"w\") as write_file:\n",
        "    message_written = write_file.write(message)\n",
        "\n",
        "print(message)"
      ],
      "metadata": {
        "colab": {
          "base_uri": "https://localhost:8080/"
        },
        "id": "IFO5U-OoDAs8",
        "outputId": "e5ac6ad7-91e8-46e1-f66d-14fa57d5907e"
      },
      "execution_count": null,
      "outputs": [
        {
          "output_type": "stream",
          "name": "stdout",
          "text": [
            "this message read from read_file and written in write_file\n"
          ]
        }
      ]
    },
    {
      "cell_type": "code",
      "source": [
        "#5.How would you catch and handle division by zero error in Python ?\n",
        "\n",
        "try:\n",
        "    5/0\n",
        "except Exception as e:\n",
        "    print(\" error found in such code error name is :\",e)"
      ],
      "metadata": {
        "colab": {
          "base_uri": "https://localhost:8080/"
        },
        "id": "M65Yj9L6DMLw",
        "outputId": "735cc983-4634-4438-a2ef-ecde459b90bc"
      },
      "execution_count": null,
      "outputs": [
        {
          "output_type": "stream",
          "name": "stdout",
          "text": [
            " error found in such code error name is : division by zero\n"
          ]
        }
      ]
    },
    {
      "cell_type": "code",
      "source": [
        "#6.Write a Python program that logs an error message to a log file when a division by zero exception occurs ?\n",
        "\n",
        "import logging\n",
        "logging.basicConfig(filename=\"error_file.log\", level=logging.ERROR)\n",
        "\n",
        "try:\n",
        "    result = 10 / 0\n",
        "except ZeroDivisionError as e:\n",
        "    logging.error(\"Division by zero error: %s\", e)"
      ],
      "metadata": {
        "id": "2ZOZneDeDR0Q"
      },
      "execution_count": null,
      "outputs": []
    },
    {
      "cell_type": "code",
      "source": [
        "#7.How do you log information at different levels (INFO, ERROR, WARNING) in Python using the logging module ?\n",
        "import logging\n",
        "logging.basicConfig(filename = \"log_file5.log\",level = logging.DEBUG)\n",
        "\n",
        "logging.info(\"this is info about log_file\")\n",
        "logging.error(\"this is error about log_file\")\n",
        "logging.warning(\"this is warning about log_file\")"
      ],
      "metadata": {
        "id": "-cs8ibz7DS3b"
      },
      "execution_count": null,
      "outputs": []
    },
    {
      "cell_type": "code",
      "source": [
        "#8.Write a program to handle a file opening error using exception handling\n",
        "\n",
        "try:\n",
        "    with open(\"file_not_exist.txt\", \"r\") as file:\n",
        "        print(file.read())\n",
        "except Exception as e:\n",
        "    print(\"This file does not exist as of now , error name is :\",e)"
      ],
      "metadata": {
        "colab": {
          "base_uri": "https://localhost:8080/"
        },
        "id": "JEMRn2WPDXph",
        "outputId": "8ae63863-8dcf-4122-f28c-9611706653e3"
      },
      "execution_count": null,
      "outputs": [
        {
          "output_type": "stream",
          "name": "stdout",
          "text": [
            "This file does not exist as of now , error name is : [Errno 2] No such file or directory: 'file_not_exist.txt'\n"
          ]
        }
      ]
    },
    {
      "cell_type": "code",
      "source": [
        "#9.How can you read a file line by line and store its content in a list in Python ?\n",
        "\n",
        "with open(\"assignment5.txt\", \"w\") as file:\n",
        "    file.write(\"Hello, this is assigment5 of python\")\n",
        "\n",
        "lines = []\n",
        "with open(\"assignment5.txt\", \"r\") as file:\n",
        "    lines = file.readlines()\n",
        "print(\"this is the content in file :\" ,lines)"
      ],
      "metadata": {
        "colab": {
          "base_uri": "https://localhost:8080/"
        },
        "id": "Ls4PO6EXDhfZ",
        "outputId": "ec5b374a-dc52-4d14-e1a7-39c9e6dabe7d"
      },
      "execution_count": null,
      "outputs": [
        {
          "output_type": "stream",
          "name": "stdout",
          "text": [
            "this is the content in file : ['Hello, this is assigment5 of python']\n"
          ]
        }
      ]
    },
    {
      "cell_type": "code",
      "source": [
        "#10.How can you append data to an existing file in Python ?\n",
        "\n",
        "with open(\"assignment5.txt\", \"a\") as file:\n",
        "    file.write(\"\\nthis is appended line of file append by append function\")"
      ],
      "metadata": {
        "id": "cHgtuEu1Dllv"
      },
      "execution_count": null,
      "outputs": []
    },
    {
      "cell_type": "code",
      "source": [
        "#11.Write a Python program that uses a try-except block to handle an error when attempting to access a dictionary key that doesn't exist.\n",
        "d = {\"name\":\"pallavi\"}\n",
        "try:\n",
        "    d[\"age\"]\n",
        "except KeyError:\n",
        "    print(\"this key is not exist\")"
      ],
      "metadata": {
        "colab": {
          "base_uri": "https://localhost:8080/"
        },
        "id": "AEbkH4NxDmW-",
        "outputId": "c1d9b06f-5ea9-419f-985f-1d897b3d595c"
      },
      "execution_count": null,
      "outputs": [
        {
          "output_type": "stream",
          "name": "stdout",
          "text": [
            "this key is not exist\n"
          ]
        }
      ]
    },
    {
      "cell_type": "code",
      "source": [
        "#12.Write a program that demonstrates using multiple except blocks to handle different types of exceptions.\n",
        "\n",
        "try:\n",
        "    5/0\n",
        "    float(\"amit\")\n",
        "except ZeroDivisionError:\n",
        "    print(\"ZeroDivisionError : division by zero is not possible\")\n",
        "except ValueError:\n",
        "    print(\"ValueError : not possible to convert\")\n"
      ],
      "metadata": {
        "colab": {
          "base_uri": "https://localhost:8080/"
        },
        "id": "JRjZImOIDw0e",
        "outputId": "ff76a43f-52f6-4f2d-87ab-54bf8d61a0ec"
      },
      "execution_count": null,
      "outputs": [
        {
          "output_type": "stream",
          "name": "stdout",
          "text": [
            "ZeroDivisionError : division by zero is not possible\n"
          ]
        }
      ]
    },
    {
      "cell_type": "code",
      "source": [
        "#13How would you check if a file exists before attempting to read it in Python?\n",
        "import os\n",
        "\n",
        "filename = \"file_exist.txt\"\n",
        "\n",
        "if os.path.exists(filename):\n",
        "    with open(filename, \"r\") as file:\n",
        "        print(file.read())\n",
        "else:\n",
        "    print(\"File does not exist.\")"
      ],
      "metadata": {
        "colab": {
          "base_uri": "https://localhost:8080/"
        },
        "id": "K_bMA2kpD3DG",
        "outputId": "01cc91b9-ae6f-4e13-936c-9980229c293f"
      },
      "execution_count": null,
      "outputs": [
        {
          "output_type": "stream",
          "name": "stdout",
          "text": [
            "File does not exist.\n"
          ]
        }
      ]
    },
    {
      "cell_type": "code",
      "source": [
        "#14.Write a program that uses the logging module to log both informational and error messages.\n",
        "import logging\n",
        "logging.basicConfig(filename=\"file5_log.log\",level = logging.INFO)\n",
        "logging.info(\"this is info message\")\n",
        "\n",
        "try:\n",
        "    5/0\n",
        "except ZeroDivisionError as e:\n",
        "    logging.error(\"error name is : %s\",e)"
      ],
      "metadata": {
        "id": "fPU0yfu5D6n-"
      },
      "execution_count": null,
      "outputs": []
    },
    {
      "cell_type": "code",
      "source": [
        "#15.Write a Python program that prints the content of a file and handles the case when the file is empty\n",
        "try:\n",
        "    with open(\"assignment5.txt\", \"r\") as file:\n",
        "        data = file.read()\n",
        "        if data:\n",
        "            print(data)\n",
        "        else:\n",
        "            print(\"File is empty.\")\n",
        "except FileNotFoundError:\n",
        "    print(\"File not found.\")"
      ],
      "metadata": {
        "colab": {
          "base_uri": "https://localhost:8080/"
        },
        "id": "Cyvq1JZuD7Ru",
        "outputId": "43dfda05-6f02-4a28-c799-1256761c79fd"
      },
      "execution_count": null,
      "outputs": [
        {
          "output_type": "stream",
          "name": "stdout",
          "text": [
            "Hello, this is assigment5 of python\n"
          ]
        }
      ]
    },
    {
      "cell_type": "code",
      "source": [
        "#16.Demonstrate how to use memory profiling to check the memory usage of a small program\n",
        "!pip install memory-profiler\n",
        "%load_ext memory_profiler\n",
        "from memory_profiler import memory_usage\n",
        "\n",
        "def create_list():\n",
        "    return [i for i in range(100000)]\n",
        "\n",
        "mem_usage = memory_usage(create_list)\n",
        "print(f\"Memory used: {max(mem_usage) - min(mem_usage):.2f} MiB\")"
      ],
      "metadata": {
        "colab": {
          "base_uri": "https://localhost:8080/"
        },
        "id": "amB-VVV1DvIW",
        "outputId": "e3f89ca4-cc3b-4c57-c744-65d1cb64d42c"
      },
      "execution_count": null,
      "outputs": [
        {
          "output_type": "stream",
          "name": "stdout",
          "text": [
            "Collecting memory-profiler\n",
            "  Downloading memory_profiler-0.61.0-py3-none-any.whl.metadata (20 kB)\n",
            "Requirement already satisfied: psutil in /usr/local/lib/python3.11/dist-packages (from memory-profiler) (5.9.5)\n",
            "Downloading memory_profiler-0.61.0-py3-none-any.whl (31 kB)\n",
            "Installing collected packages: memory-profiler\n",
            "Successfully installed memory-profiler-0.61.0\n",
            "Memory used: 0.98 MiB\n"
          ]
        }
      ]
    },
    {
      "cell_type": "code",
      "source": [
        "#17.Write a Python program to create and write a list of numbers to a file, one number per line\n",
        "number = [1, 2, 3, 4, 5]\n",
        "\n",
        "with open(\"number.txt\", \"w\") as file:\n",
        "    for num in number:\n",
        "        file.write(f\"{num}\\n\")"
      ],
      "metadata": {
        "id": "uRmfzchsCyBZ"
      },
      "execution_count": null,
      "outputs": []
    },
    {
      "cell_type": "code",
      "source": [
        "#18.How would you implement a basic logging setup that logs to a file with rotation after 1MB\n",
        "import logging\n",
        "from logging.handlers import RotatingFileHandler\n",
        "\n",
        "logger = logging.getLogger(\"MyLogger\")\n",
        "logger.setLevel(logging.INFO)\n",
        "\n",
        "handler = RotatingFileHandler(\"rotating_log.log\", maxBytes=1_000_000, backupCount=3)\n",
        "logger.addHandler(handler)\n",
        "\n",
        "logger.info(\"Logging with rotation setup.\")"
      ],
      "metadata": {
        "id": "rc4le4WFEj__"
      },
      "execution_count": null,
      "outputs": []
    },
    {
      "cell_type": "code",
      "source": [
        "#19.Write a program that handles both IndexError and KeyError using a try-except block\n",
        "\n",
        "try:\n",
        "    l = [1, 2]\n",
        "    print(l[5])\n",
        "    d = {}\n",
        "    print(d[\"key\"])\n",
        "except IndexError:\n",
        "    print(\"Index out of range.\")\n",
        "except KeyError:\n",
        "    print(\"Key not found in dictionary.\")"
      ],
      "metadata": {
        "colab": {
          "base_uri": "https://localhost:8080/"
        },
        "id": "eS3BQC1BEvfs",
        "outputId": "bdaa3264-a068-4a9d-a949-84de79b55233"
      },
      "execution_count": null,
      "outputs": [
        {
          "output_type": "stream",
          "name": "stdout",
          "text": [
            "Index out of range.\n"
          ]
        }
      ]
    },
    {
      "cell_type": "code",
      "source": [
        "#20.How would you open a file and read its contents using a context manager in Python?\n",
        "with open(\"assignment5.txt\", \"r\") as file:\n",
        "    data = file.read()\n",
        "    print(data)"
      ],
      "metadata": {
        "colab": {
          "base_uri": "https://localhost:8080/"
        },
        "id": "3WFIGK3qEwD_",
        "outputId": "73334642-c26b-4df5-9944-63210eb306ac"
      },
      "execution_count": null,
      "outputs": [
        {
          "output_type": "stream",
          "name": "stdout",
          "text": [
            "Hello, this is assigment5 of python\n"
          ]
        }
      ]
    },
    {
      "cell_type": "code",
      "source": [
        "#21.Write a Python program that reads a file and prints the number of occurrences of a specific word ?\n",
        "\n",
        "word_count = \"t\"\n",
        "count = 0\n",
        "\n",
        "with open(\"assignment5.txt\", \"r\") as file:\n",
        "    for line in file:\n",
        "        count += line.lower().count(word_count.lower())\n",
        "\n",
        "print(f\"The word '{word_count}' occurs {count} times.\")"
      ],
      "metadata": {
        "colab": {
          "base_uri": "https://localhost:8080/"
        },
        "id": "X3zO4KTOE0MQ",
        "outputId": "23322081-91ec-4c91-8b14-406f91abe979"
      },
      "execution_count": null,
      "outputs": [
        {
          "output_type": "stream",
          "name": "stdout",
          "text": [
            "The word 't' occurs 3 times.\n"
          ]
        }
      ]
    },
    {
      "cell_type": "code",
      "source": [
        "#22.How can you check if a file is empty before attempting to read its contents ?\n",
        "import os\n",
        "if os.path.exists(\"assignment5.txt\") and os.path.getsize(\"assignment5.txt\") > 0:\n",
        "    with open(\"assignment5.txt\", \"r\") as file:\n",
        "        print(file.read())\n",
        "else:\n",
        "    print(\"File does not exist or is empty.\")"
      ],
      "metadata": {
        "colab": {
          "base_uri": "https://localhost:8080/"
        },
        "id": "HXBsxbRHE5I9",
        "outputId": "4f581b52-2fe6-4d6d-c827-f669d5f0b41f"
      },
      "execution_count": null,
      "outputs": [
        {
          "output_type": "stream",
          "name": "stdout",
          "text": [
            "Hello, this is assigment5 of python\n"
          ]
        }
      ]
    },
    {
      "cell_type": "code",
      "source": [
        "#23.Write a Python program that writes to a log file when an error occurs during file handling.\n",
        "\n",
        "import logging\n",
        "logging.basicConfig(filename=\"file5_log.log\",level = logging.INFO)\n",
        "\n",
        "try:\n",
        "    5/0\n",
        "except ZeroDivisionError as e:\n",
        "    logging.error(\"error name is : %s\",e)\n"
      ],
      "metadata": {
        "colab": {
          "base_uri": "https://localhost:8080/"
        },
        "id": "LU_FEsSmE8md",
        "outputId": "274aee88-66e6-4607-be1a-e95f3d4ff6d7"
      },
      "execution_count": null,
      "outputs": [
        {
          "output_type": "stream",
          "name": "stderr",
          "text": [
            "ERROR:root:error name is : division by zero\n"
          ]
        }
      ]
    },
    {
      "cell_type": "code",
      "source": [],
      "metadata": {
        "id": "n37Vj3OPFCEp"
      },
      "execution_count": null,
      "outputs": []
    }
  ]
}